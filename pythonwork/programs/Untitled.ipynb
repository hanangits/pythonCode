{
 "cells": [
  {
   "cell_type": "code",
   "execution_count": null,
   "id": "8bce7987-dda9-4a55-aea7-1d8b6e8426af",
   "metadata": {},
   "outputs": [],
   "source": []
  }
 ],
 "metadata": {
  "kernelspec": {
   "display_name": "",
   "name": ""
  },
  "language_info": {
   "name": ""
  }
 },
 "nbformat": 4,
 "nbformat_minor": 5
}
